{
 "cells": [
  {
   "attachments": {},
   "cell_type": "markdown",
   "metadata": {},
   "source": [
    "# KNN using SciKit Learn & MLP using TensorFlow \n",
    "###### Created by Esmira Abdullaieva & Shovak Myroslav"
   ]
  },
  {
   "cell_type": "code",
   "execution_count": 40,
   "metadata": {},
   "outputs": [],
   "source": [
    "import pandas as pd\n",
    "import numpy as np\n",
    "from sklearn.neighbors import KNeighborsClassifier\n",
    "from sklearn.model_selection import train_test_split\n",
    "from sklearn.metrics import mean_absolute_error, mean_squared_error\n",
    "import matplotlib.pyplot as plt\n",
    "import tensorflow as tf"
   ]
  },
  {
   "attachments": {},
   "cell_type": "markdown",
   "metadata": {},
   "source": [
    "### Implementation of KNN using SciKit-Learn"
   ]
  },
  {
   "cell_type": "code",
   "execution_count": 41,
   "metadata": {},
   "outputs": [
    {
     "name": "stdout",
     "output_type": "stream",
     "text": [
      "   battery_power  blue  clock_speed  dual_sim  fc  four_g  int_memory  m_dep  \\\n",
      "0            842     0          2.2         0   1       0           7    0.6   \n",
      "1           1021     1          0.5         1   0       1          53    0.7   \n",
      "2            563     1          0.5         1   2       1          41    0.9   \n",
      "3            615     1          2.5         0   0       0          10    0.8   \n",
      "4           1821     1          1.2         0  13       1          44    0.6   \n",
      "\n",
      "   mobile_wt  n_cores  pc  px_height  px_width   ram  sc_h  sc_w  talk_time  \\\n",
      "0        188        2   2         20       756  2549     9     7         19   \n",
      "1        136        3   6        905      1988  2631    17     3          7   \n",
      "2        145        5   6       1263      1716  2603    11     2          9   \n",
      "3        131        6   9       1216      1786  2769    16     8         11   \n",
      "4        141        2  14       1208      1212  1411     8     2         15   \n",
      "\n",
      "   three_g  touch_screen  wifi  price_range  \n",
      "0        0             0     1            1  \n",
      "1        1             1     0            2  \n",
      "2        1             1     0            2  \n",
      "3        1             0     0            2  \n",
      "4        1             1     0            1  \n"
     ]
    }
   ],
   "source": [
    "df = pd.read_csv('Mobile_Price.csv')\n",
    "pd.set_option('display.max_columns', None)\n",
    "print(df.head())"
   ]
  },
  {
   "cell_type": "code",
   "execution_count": 42,
   "metadata": {},
   "outputs": [
    {
     "name": "stdout",
     "output_type": "stream",
     "text": [
      "The number of duplicates: 0\n",
      "Empty cells:\n",
      "battery_power    0\n",
      "blue             0\n",
      "clock_speed      0\n",
      "dual_sim         0\n",
      "fc               0\n",
      "four_g           0\n",
      "int_memory       0\n",
      "m_dep            0\n",
      "mobile_wt        0\n",
      "n_cores          0\n",
      "pc               0\n",
      "px_height        0\n",
      "px_width         0\n",
      "ram              0\n",
      "sc_h             0\n",
      "sc_w             0\n",
      "talk_time        0\n",
      "three_g          0\n",
      "touch_screen     0\n",
      "wifi             0\n",
      "price_range      0\n",
      "dtype: int64\n"
     ]
    }
   ],
   "source": [
    "print('The number of duplicates:', df.duplicated().sum())\n",
    "print(f'Empty cells:\\n{df.isnull().sum()}')"
   ]
  },
  {
   "cell_type": "code",
   "execution_count": 43,
   "metadata": {},
   "outputs": [],
   "source": [
    "y = df['price_range']\n",
    "X = df.drop(['price_range'], axis=1)"
   ]
  },
  {
   "cell_type": "code",
   "execution_count": 44,
   "metadata": {},
   "outputs": [],
   "source": [
    "# separation of data into test and training\n",
    "SEED = 42\n",
    "X_train, X_test, y_train, y_test = train_test_split( X, y, test_size=0.3, random_state=SEED)"
   ]
  },
  {
   "cell_type": "code",
   "execution_count": 45,
   "metadata": {},
   "outputs": [
    {
     "name": "stdout",
     "output_type": "stream",
     "text": [
      "R2 accuracy: 0.9409937888198758\n"
     ]
    }
   ],
   "source": [
    "# creating KNN model and it's initialization\n",
    "knn = KNeighborsClassifier(n_neighbors=17)\n",
    "knn.fit(X_train.values, y_train.values)\n",
    "model = knn.score(X_test.values, y_test.values)\n",
    "print('R2 accuracy:', model)"
   ]
  },
  {
   "cell_type": "code",
   "execution_count": 46,
   "metadata": {},
   "outputs": [
    {
     "name": "stdout",
     "output_type": "stream",
     "text": [
      "Predict price:\n",
      "[1 3 3 3 0 3 2 3 3 0 3 3 3 1 2 3 3 3 1 3 0 1 2 1 1 1 1 1 2 2 0 1 0 0 3 3 0\n",
      " 3 0 1 0 3 1 1 2 3 0 0 1 2 2 2 1 2 0 2 2 2 0 3 0 1 3 0 1 0 3 1 3 2 3 1 0 3\n",
      " 0 3 2 1 1 3 0 3 0 3 0 3 1 3 0 3 3 1 0 0 3 1 2 2 2 3 3 0 0 1 0 0 3 1 3 1 1\n",
      " 1 3 0 0 2 3 0 1 1 0 2 0 2 2 1 2 1 2 2 2 0 0 0 3 3 0 2 3 3 1 2 3 3 1 2 0 2\n",
      " 1 2 0 2 1 3 1 2 0 2 3 2 2 3 1 3 2 1 3 0 2 3 3 1 1 1 1 3 3 3 3 1 2 0 2 0 3\n",
      " 3 3 3 0 3 3 1 0 3 3 2 0 2 0 0 2 0 3 1 1 1 1 2 3 1 3 2 0 0 2 0 0 2 0 2 1 1\n",
      " 1 3 3 2 2 2 2 2 2 0 0 0 3 2 1 3 1 3 1 2 0 3 1 3 3 0 3 2 3 2 3 1 0 2 1 1 0\n",
      " 2 2 0 1 0 1 2 3 0 1 2 0 1 3 0 3 1 1 3 2 0 3 0 3 1 0 2 0 3 1 0 2 0 3 1 2 0\n",
      " 3 0 3 0 3 1 0 0 0 3 1 2 2 1 0 0 2 2 1 3 2 3 2 1 1 3]\n"
     ]
    }
   ],
   "source": [
    "# predict price for all test rows\n",
    "price_predict = knn.predict(X_test.values)\n",
    "print(f'Predict price:\\n{price_predict}')"
   ]
  },
  {
   "cell_type": "code",
   "execution_count": 47,
   "metadata": {},
   "outputs": [
    {
     "name": "stdout",
     "output_type": "stream",
     "text": [
      "mse = 0.059006211180124224\n",
      "rmse = 0.24291194120529402\n",
      "relative_error = 15.61%\n"
     ]
    }
   ],
   "source": [
    "# calculating of metrix\n",
    "mae = mean_absolute_error(y_test, price_predict)\n",
    "mse = mean_squared_error(y_test, price_predict)\n",
    "rmse = mean_squared_error(y_test, price_predict, squared=False)\n",
    "relative_error = round(rmse/price_predict.mean()*100, 2)\n",
    "\n",
    "print(f'{mse = }\\n{rmse = }\\n{relative_error = }%')"
   ]
  },
  {
   "cell_type": "code",
   "execution_count": 48,
   "metadata": {},
   "outputs": [
    {
     "name": "stdout",
     "output_type": "stream",
     "text": [
      "The best number of neighbors: 17\n"
     ]
    }
   ],
   "source": [
    "error_rate = []\n",
    "for i in range(1, 50):\n",
    "    knn = KNeighborsClassifier(n_neighbors=i)\n",
    "    knn.fit(X_train, y_train)\n",
    "    pred_i = knn.predict(X_test)\n",
    "    error_rate.append(np.mean(pred_i != y_test))\n",
    "\n",
    "print('The best number of neighbors:', error_rate.index(min(error_rate)) + 1)"
   ]
  },
  {
   "cell_type": "code",
   "execution_count": 49,
   "metadata": {},
   "outputs": [
    {
     "data": {
      "text/plain": [
       "Text(0, 0.5, 'Error Rate')"
      ]
     },
     "execution_count": 49,
     "metadata": {},
     "output_type": "execute_result"
    },
    {
     "data": {
      "image/png": "[encoded data removed]",
      "text/plain": [
       "<Figure size 500x500 with 1 Axes>"
      ]
     },
     "metadata": {},
     "output_type": "display_data"
    }
   ],
   "source": [
    "plt.figure(figsize=(5, 5))\n",
    "plt.plot(range(1, 50), error_rate, color='blue', linestyle='dashed', marker='o',\n",
    "         markerfacecolor='red', markersize=5)\n",
    "plt.title('Error Rate vs. K Value')\n",
    "plt.xlabel('K')\n",
    "plt.ylabel('Error Rate')"
   ]
  },
  {
   "attachments": {},
   "cell_type": "markdown",
   "metadata": {},
   "source": [
    "### MLP implementation using TensorFlow"
   ]
  },
  {
   "cell_type": "code",
   "execution_count": 50,
   "metadata": {},
   "outputs": [],
   "source": [
    "# price range preparation for encode\n",
    "def label_encode(label):\n",
    "    val = []\n",
    "    if label == 0:\n",
    "        val = [1, 0, 0, 0]\n",
    "    elif label == 1:\n",
    "        val = [0, 1, 0, 0]\n",
    "    elif label == 2:\n",
    "        val = [0, 0, 1, 0]\n",
    "    elif label == 3:\n",
    "        val = [0, 0, 0, 1]\n",
    "    return val"
   ]
  },
  {
   "cell_type": "code",
   "execution_count": 51,
   "metadata": {},
   "outputs": [],
   "source": [
    "# data values preparation for encode\n",
    "def data_encode(x_value, y_value):\n",
    "    X = []\n",
    "    Y = []\n",
    "    for i in range(len(x_value)):\n",
    "        line = x_value.iloc[i].tolist()\n",
    "        X.append([line[0], line[1], line[2], line[3], line[4], line[5], line[6], line[7], line[8], line[9], line[10],\n",
    "                 line[11], line[12], line[13], line[14], line[15], line[16], line[17], line[18], line[19]])\n",
    "    for i in y_value:\n",
    "        Y.append(label_encode(i))\n",
    "    return X, Y\n"
   ]
  },
  {
   "cell_type": "code",
   "execution_count": 52,
   "metadata": {},
   "outputs": [],
   "source": [
    "# defining a Multilayer Perceptron Model\n",
    "def model(x, weights, bias):\n",
    "    layer_1 = tf.add(tf.matmul(x, weights[\"hidden\"]), bias[\"hidden\"])\n",
    "    layer_1 = tf.nn.relu(layer_1)\n",
    "\n",
    "    output_layer = tf.matmul(layer_1, weights[\"output\"]) + bias[\"output\"]\n",
    "    return output_layer"
   ]
  },
  {
   "cell_type": "code",
   "execution_count": 53,
   "metadata": {},
   "outputs": [],
   "source": [
    "# training and test Data\n",
    "train_X, train_Y = data_encode(X_train, y_train)\n",
    "test_X, test_Y = data_encode(X_test, y_test)"
   ]
  },
  {
   "cell_type": "code",
   "execution_count": 54,
   "metadata": {},
   "outputs": [],
   "source": [
    "# hyperparameter\n",
    "learning_rate = 0.01\n",
    "training_epochs = 2000\n",
    "display_steps = 50"
   ]
  },
  {
   "cell_type": "code",
   "execution_count": 55,
   "metadata": {},
   "outputs": [],
   "source": [
    "# network parameters\n",
    "n_input = 20 # the number of characteristics \n",
    "n_hidden = 30 \n",
    "n_output = 4  # the number of predict price [0, 1, 2, 3]"
   ]
  },
  {
   "cell_type": "code",
   "execution_count": 56,
   "metadata": {},
   "outputs": [],
   "source": [
    "# graph nodes\n",
    "tf.compat.v1.disable_eager_execution()\n",
    "X = tf.compat.v1.placeholder(tf.float32, [None, n_input])\n",
    "Y = tf.compat.v1.placeholder(tf.float32, [None, n_output])"
   ]
  },
  {
   "cell_type": "code",
   "execution_count": 57,
   "metadata": {},
   "outputs": [],
   "source": [
    "# weights \n",
    "weights = {\n",
    "    \"hidden\": tf.Variable(tf.random.normal([n_input, n_hidden]), name=\"weight_hidden\"),\n",
    "    \"output\": tf.Variable(tf.random.normal([n_hidden, n_output]), name=\"weight_output\")\n",
    "}\n"
   ]
  },
  {
   "cell_type": "code",
   "execution_count": 58,
   "metadata": {},
   "outputs": [],
   "source": [
    "# biases\n",
    "bias = {\n",
    "    \"hidden\": tf.Variable(tf.random.normal([n_hidden]), name=\"bias_hidden\"),\n",
    "    \"output\": tf.Variable(tf.random.normal([n_output]), name=\"bias_output\")\n",
    "}"
   ]
  },
  {
   "cell_type": "code",
   "execution_count": 59,
   "metadata": {},
   "outputs": [],
   "source": [
    "# define model\n",
    "pred = model(X, weights, bias)"
   ]
  },
  {
   "cell_type": "code",
   "execution_count": 60,
   "metadata": {},
   "outputs": [],
   "source": [
    "# define loss and optimizer\n",
    "cost = tf.compat.v1.reduce_mean(tf.nn.softmax_cross_entropy_with_logits(logits=pred, labels=Y))\n",
    "optimizer = tf.compat.v1.train.AdamOptimizer(learning_rate).minimize(cost)"
   ]
  },
  {
   "cell_type": "code",
   "execution_count": 61,
   "metadata": {},
   "outputs": [],
   "source": [
    "# initializing global variables\n",
    "init = tf.compat.v1.global_variables_initializer()"
   ]
  },
  {
   "cell_type": "code",
   "execution_count": 64,
   "metadata": {},
   "outputs": [
    {
     "name": "stdout",
     "output_type": "stream",
     "text": [
      "Epoch: 50 Cost: 407.1183\n",
      "Epoch: 100 Cost: 116.1296\n",
      "Epoch: 150 Cost: 64.17187\n",
      "Epoch: 200 Cost: 61.627205\n",
      "Epoch: 250 Cost: 27.919004\n",
      "Epoch: 300 Cost: 31.829453\n",
      "Epoch: 350 Cost: 20.766243\n",
      "Epoch: 400 Cost: 20.41865\n",
      "Epoch: 450 Cost: 18.721983\n",
      "Epoch: 500 Cost: 22.9511\n",
      "Epoch: 550 Cost: 15.500535\n",
      "Epoch: 600 Cost: 14.604471\n",
      "Epoch: 650 Cost: 16.300209\n",
      "Epoch: 700 Cost: 25.431807\n",
      "Epoch: 750 Cost: 11.944039\n",
      "Epoch: 800 Cost: 10.351401\n",
      "Epoch: 850 Cost: 10.108234\n",
      "Epoch: 900 Cost: 10.000792\n",
      "Epoch: 950 Cost: 10.766806\n",
      "Epoch: 1000 Cost: 10.31076\n",
      "Epoch: 1050 Cost: 23.203743\n",
      "Epoch: 1100 Cost: 25.41894\n",
      "Epoch: 1150 Cost: 8.120496\n",
      "Epoch: 1200 Cost: 9.347304\n",
      "Epoch: 1250 Cost: 64.3575\n",
      "Epoch: 1300 Cost: 13.081195\n",
      "Epoch: 1350 Cost: 20.444199\n",
      "Epoch: 1400 Cost: 9.164396\n",
      "Epoch: 1450 Cost: 12.741729\n",
      "Epoch: 1500 Cost: 7.1003947\n",
      "Epoch: 1550 Cost: 9.5407\n",
      "Epoch: 1600 Cost: 9.425868\n",
      "Epoch: 1650 Cost: 25.030624\n",
      "Epoch: 1700 Cost: 9.195365\n",
      "Epoch: 1750 Cost: 9.484572\n",
      "Epoch: 1800 Cost: 7.4344816\n",
      "Epoch: 1850 Cost: 10.74232\n",
      "Epoch: 1900 Cost: 23.676773\n",
      "Epoch: 1950 Cost: 5.534381\n",
      "Epoch: 2000 Cost: 8.460881\n",
      "Optimization Finished!\n",
      "Accuracy: 0.7484472\n"
     ]
    }
   ],
   "source": [
    "with tf.compat.v1.Session() as sess:\n",
    "    sess.run(init)\n",
    "    for epoch in range(training_epochs):\n",
    "        _, c = sess.run([optimizer, cost], feed_dict={X: train_X, Y: train_Y})\n",
    "        if (epoch + 1) % display_steps == 0:\n",
    "            print(\"Epoch:\", (epoch + 1), \"Cost:\", c)\n",
    "\n",
    "    print(\"Optimization Finished!\")\n",
    "\n",
    "    test_result = sess.run(pred, feed_dict={X: test_X})\n",
    "    correct_pred = tf.compat.v1.equal(tf.argmax(test_result, 1), tf.argmax(test_Y, 1))\n",
    "\n",
    "    accuracy = tf.compat.v1.reduce_mean(tf.cast(correct_pred, \"float\"))\n",
    "    print(\"Accuracy:\", accuracy.eval({X: test_X, Y: train_Y}))"
   ]
  }
 ],
 "metadata": {
  "kernelspec": {
   "display_name": "Python 3.10.6 64-bit",
   "language": "python",
   "name": "python3"
  },
  "language_info": {
   "codemirror_mode": {
    "name": "ipython",
    "version": 3
   },
   "file_extension": ".py",
   "mimetype": "text/x-python",
   "name": "python",
   "nbconvert_exporter": "python",
   "pygments_lexer": "ipython3",
   "version": "3.10.9 (main, Dec 15 2022, 18:25:35) [Clang 14.0.0 (clang-1400.0.29.202)]"
  },
  "orig_nbformat": 4,
  "vscode": {
   "interpreter": {
    "hash": "aee8b7b246df8f9039afb4144a1f6fd8d2ca17a180786b69acc140d282b71a49"
   }
  }
 },
 "nbformat": 4,
 "nbformat_minor": 2
}
